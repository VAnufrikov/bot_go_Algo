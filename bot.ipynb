{
 "nbformat": 4,
 "nbformat_minor": 0,
 "metadata": {
  "colab": {
   "provenance": [
    {
     "file_id": "1vPlkAtn5jtC8VTiwyKHX37-sujdcaGAc",
     "timestamp": 1702288294422
    }
   ]
  },
  "kernelspec": {
   "name": "python3",
   "language": "python",
   "display_name": "Python 3 (ipykernel)"
  },
  "language_info": {
   "name": "python"
  }
 },
 "cells": [
  {
   "cell_type": "code",
   "execution_count": 5,
   "metadata": {
    "id": "1UwTIn-BL9k7",
    "ExecuteTime": {
     "end_time": "2023-12-11T13:28:14.408920Z",
     "start_time": "2023-12-11T13:28:11.010338Z"
    }
   },
   "outputs": [
    {
     "name": "stderr",
     "output_type": "stream",
     "text": [
      "huggingface/tokenizers: The current process just got forked, after parallelism has already been used. Disabling parallelism to avoid deadlocks...\n",
      "To disable this warning, you can either:\n",
      "\t- Avoid using `tokenizers` before the fork if possible\n",
      "\t- Explicitly set the environment variable TOKENIZERS_PARALLELISM=(true | false)\n"
     ]
    },
    {
     "name": "stdout",
     "output_type": "stream",
     "text": [
      "Requirement already satisfied: pytelegrambotapi in /Users/valentin/anaconda3/envs/Go_Algo_bot/lib/python3.10/site-packages (4.14.0)\r\n",
      "Requirement already satisfied: requests in /Users/valentin/anaconda3/envs/Go_Algo_bot/lib/python3.10/site-packages (from pytelegrambotapi) (2.31.0)\r\n",
      "Requirement already satisfied: charset-normalizer<4,>=2 in /Users/valentin/anaconda3/envs/Go_Algo_bot/lib/python3.10/site-packages (from requests->pytelegrambotapi) (2.0.4)\r\n",
      "Requirement already satisfied: idna<4,>=2.5 in /Users/valentin/anaconda3/envs/Go_Algo_bot/lib/python3.10/site-packages (from requests->pytelegrambotapi) (3.4)\r\n",
      "Requirement already satisfied: urllib3<3,>=1.21.1 in /Users/valentin/anaconda3/envs/Go_Algo_bot/lib/python3.10/site-packages (from requests->pytelegrambotapi) (1.26.18)\r\n",
      "Requirement already satisfied: certifi>=2017.4.17 in /Users/valentin/anaconda3/envs/Go_Algo_bot/lib/python3.10/site-packages (from requests->pytelegrambotapi) (2023.11.17)\r\n"
     ]
    }
   ],
   "source": [
    "!pip3 install pytelegrambotapi"
   ]
  },
  {
   "cell_type": "code",
   "source": [],
   "metadata": {
    "id": "-miCQy2OMEe1",
    "ExecuteTime": {
     "end_time": "2023-12-11T13:28:14.416477Z",
     "start_time": "2023-12-11T13:28:14.409136Z"
    }
   },
   "execution_count": 6,
   "outputs": []
  },
  {
   "cell_type": "code",
   "execution_count": 7,
   "outputs": [],
   "source": [
    "import os\n",
    "from pathlib import Path\n",
    "from news_regressor.news_regressor import NewsRegressor\n",
    "from upload import upload_data_from_moexalgo\n",
    "from datetime import datetime, timedelta\n",
    "import telebot\n",
    "from telebot import types\n",
    "from upload import read_data_stock\n",
    "from agent import predict, get_ticket_price, get_TP_SL\n",
    "\n",
    "import telebot\n",
    "from telebot import types\n",
    "\n",
    "bot = telebot.TeleBot('6575723552:AAE0FExVL55M6iZeo1MN-IJOA1OljvZUPOE')\n",
    "\n",
    "import os\n",
    "from pathlib import Path\n",
    "from news_regressor.news_regressor import NewsRegressor\n",
    "from upload import upload_data_from_moexalgo, read_data_stock\n",
    "from datetime import datetime, timedelta\n",
    "import telebot\n",
    "from telebot import types\n",
    "from agent import predict, get_ticket_price, get_TP_SL"
   ],
   "metadata": {
    "collapsed": false,
    "ExecuteTime": {
     "end_time": "2023-12-11T13:28:14.427965Z",
     "start_time": "2023-12-11T13:28:14.418374Z"
    }
   }
  },
  {
   "cell_type": "code",
   "source": [
    "import requests\n",
    "df = read_data_stock()\n",
    "list_tradecode = df['TRADE_CODE'].unique().tolist()\n",
    "\n",
    "\n",
    "ticket_lists = [str(i).lower() for i in list_tradecode]\n",
    "NR = NewsRegressor()\n",
    "\n",
    "@bot.message_handler(commands=['start'])\n",
    "def start(message):\n",
    "\n",
    "    markup = types.ReplyKeyboardMarkup(resize_keyboard=True)\n",
    "    btn1 = types.KeyboardButton(\"👋 Поздороваться\")\n",
    "    markup.add(btn1)\n",
    "    bot.send_message(message.from_user.id, \"👋 Привет! Я - твой бот-помошник для трейдинга!\", reply_markup=markup)\n",
    "\n",
    "\n",
    "@bot.message_handler(content_types=['text'])\n",
    "def get_text_messages(message):\n",
    "\n",
    "    if message.text == '👋 Поздороваться':\n",
    "        markup = types.ReplyKeyboardMarkup(resize_keyboard=True)\n",
    "        btn1 = types.KeyboardButton('Предсказать поведение акции')\n",
    "        btn2 = types.KeyboardButton('Оценить влияние новости')\n",
    "        markup.add(btn1, btn2)\n",
    "        bot.send_message(message.from_user.id, 'Какой функционал тебя интересует?', reply_markup=markup) #ответ бота\n",
    "\n",
    "    elif message.text == 'Предсказать поведение акции':\n",
    "      bot.send_message(message.from_user.id, 'Напиши мне тикет акции, а я верну предсказание')\n",
    "\n",
    "    elif message.text == 'Оценить влияние новости':\n",
    "      bot.send_message(message.from_user.id, 'Отправь мне новость')\n",
    "\n",
    "    elif str(message.text).strip().lower() in ticket_lists:\n",
    "      ticket = str(message.text).strip().upper()\n",
    "      ### result = # отправляем запрос на получение предскания\n",
    "      date_now = datetime.today().date()\n",
    "      last_date = datetime.today() - timedelta(days=180)\n",
    "\n",
    "      horizon = 60\n",
    "      \n",
    "      bot.send_message(message.from_user.id, \"Гружу данные из moexalgo\") \n",
    "      tradestats, orderstats, obstats = upload_data_from_moexalgo(ticket, last_date.date(), date_now)\n",
    "\n",
    "      bot.send_message(message.from_user.id, \"Считаю цену в будущем...\") \n",
    "        \n",
    "      inside = predict(tradestats, orderstats, obstats, horizon)\n",
    "\n",
    "      df_price = inside[inside[\"segment\"] == \"price\"].reset_index(drop=True)\n",
    "\n",
    "      last_price, date_time = get_ticket_price(ticket, df_price, horizon)\n",
    "      \n",
    "      bot.send_message(message.from_user.id, \"Считаю Take profit и Stop loss...\") \n",
    "\n",
    "      take_profit, stop_loss = get_TP_SL(inside, last_price, horizon)\n",
    "\n",
    "      bot.send_message(message.from_user.id, f'Акция {ticket} \\n Цена покупки: {last_price} \\n Take profit нужно поставить на: {take_profit}\\n Stop loss нужно поставить на: {stop_loss}')\n",
    "\n",
    "    else:\n",
    "      bot.send_message(message.from_user.id, \"Кажется ты мне отправил новость, я сейчас оценю ее влияния\")\n",
    "      \n",
    "      text = message.text\n",
    "\n",
    "      text_predictor = NR.predict_news(text)\n",
    "\n",
    "      if text_predictor > 0:\n",
    "          bot.send_message(message.from_user.id, f'Данная новость может повлиять положительно на цену акции на {text_predictor}%')\n",
    "      else:\n",
    "          bot.send_message(message.from_user.id, f'Данная новость может повлиять отрицательно на цену акции на {text_predictor}%')\n",
    "\n",
    "      \n",
    "bot.polling(none_stop=True, interval=0)"
   ],
   "metadata": {
    "id": "CLPdwd3tMNmd",
    "ExecuteTime": {
     "end_time": "2023-12-11T13:28:45.014539Z",
     "start_time": "2023-12-11T13:28:14.436308Z"
    }
   },
   "execution_count": 8,
   "outputs": [
    {
     "name": "stdout",
     "output_type": "stream",
     "text": [
      "start upload_data_from_moexalgo\n",
      "tradestats ready\n",
      "orderstats ready\n",
      "obstats ready\n"
     ]
    },
    {
     "ename": "KeyError",
     "evalue": "'ts'",
     "output_type": "error",
     "traceback": [
      "\u001B[0;31m---------------------------------------------------------------------------\u001B[0m",
      "\u001B[0;31mKeyError\u001B[0m                                  Traceback (most recent call last)",
      "File \u001B[0;32m~/anaconda3/envs/Go_Algo_bot/lib/python3.10/site-packages/pandas/core/indexes/base.py:3802\u001B[0m, in \u001B[0;36mIndex.get_loc\u001B[0;34m(self, key, method, tolerance)\u001B[0m\n\u001B[1;32m   3801\u001B[0m \u001B[38;5;28;01mtry\u001B[39;00m:\n\u001B[0;32m-> 3802\u001B[0m     \u001B[38;5;28;01mreturn\u001B[39;00m \u001B[38;5;28;43mself\u001B[39;49m\u001B[38;5;241;43m.\u001B[39;49m\u001B[43m_engine\u001B[49m\u001B[38;5;241;43m.\u001B[39;49m\u001B[43mget_loc\u001B[49m\u001B[43m(\u001B[49m\u001B[43mcasted_key\u001B[49m\u001B[43m)\u001B[49m\n\u001B[1;32m   3803\u001B[0m \u001B[38;5;28;01mexcept\u001B[39;00m \u001B[38;5;167;01mKeyError\u001B[39;00m \u001B[38;5;28;01mas\u001B[39;00m err:\n",
      "File \u001B[0;32m~/anaconda3/envs/Go_Algo_bot/lib/python3.10/site-packages/pandas/_libs/index.pyx:138\u001B[0m, in \u001B[0;36mpandas._libs.index.IndexEngine.get_loc\u001B[0;34m()\u001B[0m\n",
      "File \u001B[0;32m~/anaconda3/envs/Go_Algo_bot/lib/python3.10/site-packages/pandas/_libs/index.pyx:165\u001B[0m, in \u001B[0;36mpandas._libs.index.IndexEngine.get_loc\u001B[0;34m()\u001B[0m\n",
      "File \u001B[0;32mpandas/_libs/hashtable_class_helper.pxi:5745\u001B[0m, in \u001B[0;36mpandas._libs.hashtable.PyObjectHashTable.get_item\u001B[0;34m()\u001B[0m\n",
      "File \u001B[0;32mpandas/_libs/hashtable_class_helper.pxi:5753\u001B[0m, in \u001B[0;36mpandas._libs.hashtable.PyObjectHashTable.get_item\u001B[0;34m()\u001B[0m\n",
      "\u001B[0;31mKeyError\u001B[0m: 'ts'",
      "\nThe above exception was the direct cause of the following exception:\n",
      "\u001B[0;31mKeyError\u001B[0m                                  Traceback (most recent call last)",
      "Cell \u001B[0;32mIn[8], line 72\u001B[0m\n\u001B[1;32m     68\u001B[0m       \u001B[38;5;28;01melse\u001B[39;00m:\n\u001B[1;32m     69\u001B[0m           bot\u001B[38;5;241m.\u001B[39msend_message(message\u001B[38;5;241m.\u001B[39mfrom_user\u001B[38;5;241m.\u001B[39mid, \u001B[38;5;124mf\u001B[39m\u001B[38;5;124m'\u001B[39m\u001B[38;5;124mДанная новость может повлиять отрицательно на цену акции на \u001B[39m\u001B[38;5;132;01m{\u001B[39;00mtext_predictor\u001B[38;5;132;01m}\u001B[39;00m\u001B[38;5;124m%\u001B[39m\u001B[38;5;124m'\u001B[39m)\n\u001B[0;32m---> 72\u001B[0m \u001B[43mbot\u001B[49m\u001B[38;5;241;43m.\u001B[39;49m\u001B[43mpolling\u001B[49m\u001B[43m(\u001B[49m\u001B[43mnone_stop\u001B[49m\u001B[38;5;241;43m=\u001B[39;49m\u001B[38;5;28;43;01mTrue\u001B[39;49;00m\u001B[43m,\u001B[49m\u001B[43m \u001B[49m\u001B[43minterval\u001B[49m\u001B[38;5;241;43m=\u001B[39;49m\u001B[38;5;241;43m0\u001B[39;49m\u001B[43m)\u001B[49m\n",
      "File \u001B[0;32m~/anaconda3/envs/Go_Algo_bot/lib/python3.10/site-packages/telebot/__init__.py:1043\u001B[0m, in \u001B[0;36mTeleBot.polling\u001B[0;34m(self, non_stop, skip_pending, interval, timeout, long_polling_timeout, logger_level, allowed_updates, none_stop, restart_on_change, path_to_watch)\u001B[0m\n\u001B[1;32m   1040\u001B[0m logger\u001B[38;5;241m.\u001B[39minfo(\u001B[38;5;124m'\u001B[39m\u001B[38;5;124mStarting your bot with username: [@\u001B[39m\u001B[38;5;132;01m%s\u001B[39;00m\u001B[38;5;124m]\u001B[39m\u001B[38;5;124m'\u001B[39m, \u001B[38;5;28mself\u001B[39m\u001B[38;5;241m.\u001B[39muser\u001B[38;5;241m.\u001B[39musername)\n\u001B[1;32m   1042\u001B[0m \u001B[38;5;28;01mif\u001B[39;00m \u001B[38;5;28mself\u001B[39m\u001B[38;5;241m.\u001B[39mthreaded:\n\u001B[0;32m-> 1043\u001B[0m     \u001B[38;5;28;43mself\u001B[39;49m\u001B[38;5;241;43m.\u001B[39;49m\u001B[43m__threaded_polling\u001B[49m\u001B[43m(\u001B[49m\u001B[43mnon_stop\u001B[49m\u001B[38;5;241;43m=\u001B[39;49m\u001B[43mnon_stop\u001B[49m\u001B[43m,\u001B[49m\u001B[43m \u001B[49m\u001B[43minterval\u001B[49m\u001B[38;5;241;43m=\u001B[39;49m\u001B[43minterval\u001B[49m\u001B[43m,\u001B[49m\u001B[43m \u001B[49m\u001B[43mtimeout\u001B[49m\u001B[38;5;241;43m=\u001B[39;49m\u001B[43mtimeout\u001B[49m\u001B[43m,\u001B[49m\u001B[43m \u001B[49m\u001B[43mlong_polling_timeout\u001B[49m\u001B[38;5;241;43m=\u001B[39;49m\u001B[43mlong_polling_timeout\u001B[49m\u001B[43m,\u001B[49m\n\u001B[1;32m   1044\u001B[0m \u001B[43m                            \u001B[49m\u001B[43mlogger_level\u001B[49m\u001B[38;5;241;43m=\u001B[39;49m\u001B[43mlogger_level\u001B[49m\u001B[43m,\u001B[49m\u001B[43m \u001B[49m\u001B[43mallowed_updates\u001B[49m\u001B[38;5;241;43m=\u001B[39;49m\u001B[43mallowed_updates\u001B[49m\u001B[43m)\u001B[49m\n\u001B[1;32m   1045\u001B[0m \u001B[38;5;28;01melse\u001B[39;00m:\n\u001B[1;32m   1046\u001B[0m     \u001B[38;5;28mself\u001B[39m\u001B[38;5;241m.\u001B[39m__non_threaded_polling(non_stop\u001B[38;5;241m=\u001B[39mnon_stop, interval\u001B[38;5;241m=\u001B[39minterval, timeout\u001B[38;5;241m=\u001B[39mtimeout, long_polling_timeout\u001B[38;5;241m=\u001B[39mlong_polling_timeout,\n\u001B[1;32m   1047\u001B[0m                                 logger_level\u001B[38;5;241m=\u001B[39mlogger_level, allowed_updates\u001B[38;5;241m=\u001B[39mallowed_updates)\n",
      "File \u001B[0;32m~/anaconda3/envs/Go_Algo_bot/lib/python3.10/site-packages/telebot/__init__.py:1118\u001B[0m, in \u001B[0;36mTeleBot.__threaded_polling\u001B[0;34m(self, non_stop, interval, timeout, long_polling_timeout, logger_level, allowed_updates)\u001B[0m\n\u001B[1;32m   1116\u001B[0m     polling_thread\u001B[38;5;241m.\u001B[39mclear_exceptions()   \u001B[38;5;66;03m#*\u001B[39;00m\n\u001B[1;32m   1117\u001B[0m     \u001B[38;5;28mself\u001B[39m\u001B[38;5;241m.\u001B[39mworker_pool\u001B[38;5;241m.\u001B[39mclear_exceptions() \u001B[38;5;66;03m#*\u001B[39;00m\n\u001B[0;32m-> 1118\u001B[0m     \u001B[38;5;28;01mraise\u001B[39;00m e\n\u001B[1;32m   1119\u001B[0m \u001B[38;5;28;01melse\u001B[39;00m:\n\u001B[1;32m   1120\u001B[0m     polling_thread\u001B[38;5;241m.\u001B[39mclear_exceptions()\n",
      "File \u001B[0;32m~/anaconda3/envs/Go_Algo_bot/lib/python3.10/site-packages/telebot/__init__.py:1074\u001B[0m, in \u001B[0;36mTeleBot.__threaded_polling\u001B[0;34m(self, non_stop, interval, timeout, long_polling_timeout, logger_level, allowed_updates)\u001B[0m\n\u001B[1;32m   1072\u001B[0m     or_event\u001B[38;5;241m.\u001B[39mwait()  \u001B[38;5;66;03m# wait for polling thread finish, polling thread error or thread pool error\u001B[39;00m\n\u001B[1;32m   1073\u001B[0m     polling_thread\u001B[38;5;241m.\u001B[39mraise_exceptions()\n\u001B[0;32m-> 1074\u001B[0m     \u001B[38;5;28;43mself\u001B[39;49m\u001B[38;5;241;43m.\u001B[39;49m\u001B[43mworker_pool\u001B[49m\u001B[38;5;241;43m.\u001B[39;49m\u001B[43mraise_exceptions\u001B[49m\u001B[43m(\u001B[49m\u001B[43m)\u001B[49m\n\u001B[1;32m   1075\u001B[0m     error_interval \u001B[38;5;241m=\u001B[39m \u001B[38;5;241m0.25\u001B[39m\n\u001B[1;32m   1076\u001B[0m \u001B[38;5;28;01mexcept\u001B[39;00m apihelper\u001B[38;5;241m.\u001B[39mApiException \u001B[38;5;28;01mas\u001B[39;00m e:\n",
      "File \u001B[0;32m~/anaconda3/envs/Go_Algo_bot/lib/python3.10/site-packages/telebot/util.py:147\u001B[0m, in \u001B[0;36mThreadPool.raise_exceptions\u001B[0;34m(self)\u001B[0m\n\u001B[1;32m    145\u001B[0m \u001B[38;5;28;01mdef\u001B[39;00m \u001B[38;5;21mraise_exceptions\u001B[39m(\u001B[38;5;28mself\u001B[39m):\n\u001B[1;32m    146\u001B[0m     \u001B[38;5;28;01mif\u001B[39;00m \u001B[38;5;28mself\u001B[39m\u001B[38;5;241m.\u001B[39mexception_event\u001B[38;5;241m.\u001B[39mis_set():\n\u001B[0;32m--> 147\u001B[0m         \u001B[38;5;28;01mraise\u001B[39;00m \u001B[38;5;28mself\u001B[39m\u001B[38;5;241m.\u001B[39mexception_info\n",
      "File \u001B[0;32m~/anaconda3/envs/Go_Algo_bot/lib/python3.10/site-packages/telebot/util.py:90\u001B[0m, in \u001B[0;36mWorkerThread.run\u001B[0;34m(self)\u001B[0m\n\u001B[1;32m     87\u001B[0m logger\u001B[38;5;241m.\u001B[39mdebug(\u001B[38;5;124m\"\u001B[39m\u001B[38;5;124mReceived task\u001B[39m\u001B[38;5;124m\"\u001B[39m)\n\u001B[1;32m     88\u001B[0m \u001B[38;5;28mself\u001B[39m\u001B[38;5;241m.\u001B[39mreceived_task_event\u001B[38;5;241m.\u001B[39mset()\n\u001B[0;32m---> 90\u001B[0m \u001B[43mtask\u001B[49m\u001B[43m(\u001B[49m\u001B[38;5;241;43m*\u001B[39;49m\u001B[43margs\u001B[49m\u001B[43m,\u001B[49m\u001B[43m \u001B[49m\u001B[38;5;241;43m*\u001B[39;49m\u001B[38;5;241;43m*\u001B[39;49m\u001B[43mkwargs\u001B[49m\u001B[43m)\u001B[49m\n\u001B[1;32m     91\u001B[0m logger\u001B[38;5;241m.\u001B[39mdebug(\u001B[38;5;124m\"\u001B[39m\u001B[38;5;124mTask complete\u001B[39m\u001B[38;5;124m\"\u001B[39m)\n\u001B[1;32m     92\u001B[0m \u001B[38;5;28mself\u001B[39m\u001B[38;5;241m.\u001B[39mdone_event\u001B[38;5;241m.\u001B[39mset()\n",
      "File \u001B[0;32m~/anaconda3/envs/Go_Algo_bot/lib/python3.10/site-packages/telebot/__init__.py:6801\u001B[0m, in \u001B[0;36mTeleBot._run_middlewares_and_handler\u001B[0;34m(self, message, handlers, middlewares, update_type)\u001B[0m\n\u001B[1;32m   6799\u001B[0m     result \u001B[38;5;241m=\u001B[39m handler[\u001B[38;5;124m'\u001B[39m\u001B[38;5;124mfunction\u001B[39m\u001B[38;5;124m'\u001B[39m](message, bot\u001B[38;5;241m=\u001B[39m\u001B[38;5;28mself\u001B[39m)\n\u001B[1;32m   6800\u001B[0m \u001B[38;5;28;01melse\u001B[39;00m:\n\u001B[0;32m-> 6801\u001B[0m     result \u001B[38;5;241m=\u001B[39m \u001B[43mhandler\u001B[49m\u001B[43m[\u001B[49m\u001B[38;5;124;43m'\u001B[39;49m\u001B[38;5;124;43mfunction\u001B[39;49m\u001B[38;5;124;43m'\u001B[39;49m\u001B[43m]\u001B[49m\u001B[43m(\u001B[49m\u001B[43mmessage\u001B[49m\u001B[43m)\u001B[49m\n\u001B[1;32m   6802\u001B[0m \u001B[38;5;28;01mif\u001B[39;00m \u001B[38;5;129;01mnot\u001B[39;00m \u001B[38;5;28misinstance\u001B[39m(result, ContinueHandling):\n\u001B[1;32m   6803\u001B[0m     \u001B[38;5;28;01mbreak\u001B[39;00m\n",
      "Cell \u001B[0;32mIn[8], line 43\u001B[0m, in \u001B[0;36mget_text_messages\u001B[0;34m(message)\u001B[0m\n\u001B[1;32m     40\u001B[0m horizon \u001B[38;5;241m=\u001B[39m \u001B[38;5;241m60\u001B[39m\n\u001B[1;32m     42\u001B[0m bot\u001B[38;5;241m.\u001B[39msend_message(message\u001B[38;5;241m.\u001B[39mfrom_user\u001B[38;5;241m.\u001B[39mid, \u001B[38;5;124m\"\u001B[39m\u001B[38;5;124mГружу данные из moexalgo\u001B[39m\u001B[38;5;124m\"\u001B[39m) \n\u001B[0;32m---> 43\u001B[0m tradestats, orderstats, obstats \u001B[38;5;241m=\u001B[39m \u001B[43mupload_data_from_moexalgo\u001B[49m\u001B[43m(\u001B[49m\u001B[43mticket\u001B[49m\u001B[43m,\u001B[49m\u001B[43m \u001B[49m\u001B[43mlast_date\u001B[49m\u001B[38;5;241;43m.\u001B[39;49m\u001B[43mdate\u001B[49m\u001B[43m(\u001B[49m\u001B[43m)\u001B[49m\u001B[43m,\u001B[49m\u001B[43m \u001B[49m\u001B[43mdate_now\u001B[49m\u001B[43m)\u001B[49m\n\u001B[1;32m     45\u001B[0m bot\u001B[38;5;241m.\u001B[39msend_message(message\u001B[38;5;241m.\u001B[39mfrom_user\u001B[38;5;241m.\u001B[39mid, \u001B[38;5;124m\"\u001B[39m\u001B[38;5;124mСчитаю цену в будущем...\u001B[39m\u001B[38;5;124m\"\u001B[39m) \n\u001B[1;32m     47\u001B[0m inside \u001B[38;5;241m=\u001B[39m predict(tradestats, orderstats, obstats, horizon)\n",
      "File \u001B[0;32m~/PycharmProjects/bot_go_Algo/upload.py:46\u001B[0m, in \u001B[0;36mupload_data_from_moexalgo\u001B[0;34m(TRADE_CODE, DATE_START, DATE_END)\u001B[0m\n\u001B[1;32m     43\u001B[0m obstats \u001B[38;5;241m=\u001B[39m pd\u001B[38;5;241m.\u001B[39mDataFrame(tiket\u001B[38;5;241m.\u001B[39mobstats(date\u001B[38;5;241m=\u001B[39mDATE_START, till_date\u001B[38;5;241m=\u001B[39mDATE_END))\n\u001B[1;32m     44\u001B[0m \u001B[38;5;28mprint\u001B[39m(\u001B[38;5;124m\"\u001B[39m\u001B[38;5;124mobstats ready\u001B[39m\u001B[38;5;124m\"\u001B[39m)\n\u001B[0;32m---> 46\u001B[0m obstats[\u001B[38;5;124m\"\u001B[39m\u001B[38;5;124mts\u001B[39m\u001B[38;5;124m\"\u001B[39m] \u001B[38;5;241m=\u001B[39m pd\u001B[38;5;241m.\u001B[39mto_datetime(\u001B[43mobstats\u001B[49m\u001B[43m[\u001B[49m\u001B[38;5;124;43m\"\u001B[39;49m\u001B[38;5;124;43mts\u001B[39;49m\u001B[38;5;124;43m\"\u001B[39;49m\u001B[43m]\u001B[49m, \u001B[38;5;28mformat\u001B[39m\u001B[38;5;241m=\u001B[39m\u001B[38;5;124m\"\u001B[39m\u001B[38;5;124m%\u001B[39m\u001B[38;5;124mY-\u001B[39m\u001B[38;5;124m%\u001B[39m\u001B[38;5;124mm-\u001B[39m\u001B[38;5;132;01m%d\u001B[39;00m\u001B[38;5;124m \u001B[39m\u001B[38;5;124m%\u001B[39m\u001B[38;5;124mH:\u001B[39m\u001B[38;5;124m%\u001B[39m\u001B[38;5;124mM\u001B[39m\u001B[38;5;124m\"\u001B[39m)\n\u001B[1;32m     47\u001B[0m orderstats[\u001B[38;5;124m\"\u001B[39m\u001B[38;5;124mts\u001B[39m\u001B[38;5;124m\"\u001B[39m] \u001B[38;5;241m=\u001B[39m pd\u001B[38;5;241m.\u001B[39mto_datetime(orderstats[\u001B[38;5;124m\"\u001B[39m\u001B[38;5;124mts\u001B[39m\u001B[38;5;124m\"\u001B[39m], \u001B[38;5;28mformat\u001B[39m\u001B[38;5;241m=\u001B[39m\u001B[38;5;124m\"\u001B[39m\u001B[38;5;124m%\u001B[39m\u001B[38;5;124mY-\u001B[39m\u001B[38;5;124m%\u001B[39m\u001B[38;5;124mm-\u001B[39m\u001B[38;5;132;01m%d\u001B[39;00m\u001B[38;5;124m \u001B[39m\u001B[38;5;124m%\u001B[39m\u001B[38;5;124mH:\u001B[39m\u001B[38;5;124m%\u001B[39m\u001B[38;5;124mM\u001B[39m\u001B[38;5;124m\"\u001B[39m)\n\u001B[1;32m     48\u001B[0m tradestats[\u001B[38;5;124m\"\u001B[39m\u001B[38;5;124mts\u001B[39m\u001B[38;5;124m\"\u001B[39m] \u001B[38;5;241m=\u001B[39m pd\u001B[38;5;241m.\u001B[39mto_datetime(tradestats[\u001B[38;5;124m\"\u001B[39m\u001B[38;5;124mts\u001B[39m\u001B[38;5;124m\"\u001B[39m], \u001B[38;5;28mformat\u001B[39m\u001B[38;5;241m=\u001B[39m\u001B[38;5;124m\"\u001B[39m\u001B[38;5;124m%\u001B[39m\u001B[38;5;124mY-\u001B[39m\u001B[38;5;124m%\u001B[39m\u001B[38;5;124mm-\u001B[39m\u001B[38;5;132;01m%d\u001B[39;00m\u001B[38;5;124m \u001B[39m\u001B[38;5;124m%\u001B[39m\u001B[38;5;124mH:\u001B[39m\u001B[38;5;124m%\u001B[39m\u001B[38;5;124mM\u001B[39m\u001B[38;5;124m\"\u001B[39m)\n",
      "File \u001B[0;32m~/anaconda3/envs/Go_Algo_bot/lib/python3.10/site-packages/pandas/core/frame.py:3807\u001B[0m, in \u001B[0;36mDataFrame.__getitem__\u001B[0;34m(self, key)\u001B[0m\n\u001B[1;32m   3805\u001B[0m \u001B[38;5;28;01mif\u001B[39;00m \u001B[38;5;28mself\u001B[39m\u001B[38;5;241m.\u001B[39mcolumns\u001B[38;5;241m.\u001B[39mnlevels \u001B[38;5;241m>\u001B[39m \u001B[38;5;241m1\u001B[39m:\n\u001B[1;32m   3806\u001B[0m     \u001B[38;5;28;01mreturn\u001B[39;00m \u001B[38;5;28mself\u001B[39m\u001B[38;5;241m.\u001B[39m_getitem_multilevel(key)\n\u001B[0;32m-> 3807\u001B[0m indexer \u001B[38;5;241m=\u001B[39m \u001B[38;5;28;43mself\u001B[39;49m\u001B[38;5;241;43m.\u001B[39;49m\u001B[43mcolumns\u001B[49m\u001B[38;5;241;43m.\u001B[39;49m\u001B[43mget_loc\u001B[49m\u001B[43m(\u001B[49m\u001B[43mkey\u001B[49m\u001B[43m)\u001B[49m\n\u001B[1;32m   3808\u001B[0m \u001B[38;5;28;01mif\u001B[39;00m is_integer(indexer):\n\u001B[1;32m   3809\u001B[0m     indexer \u001B[38;5;241m=\u001B[39m [indexer]\n",
      "File \u001B[0;32m~/anaconda3/envs/Go_Algo_bot/lib/python3.10/site-packages/pandas/core/indexes/base.py:3804\u001B[0m, in \u001B[0;36mIndex.get_loc\u001B[0;34m(self, key, method, tolerance)\u001B[0m\n\u001B[1;32m   3802\u001B[0m     \u001B[38;5;28;01mreturn\u001B[39;00m \u001B[38;5;28mself\u001B[39m\u001B[38;5;241m.\u001B[39m_engine\u001B[38;5;241m.\u001B[39mget_loc(casted_key)\n\u001B[1;32m   3803\u001B[0m \u001B[38;5;28;01mexcept\u001B[39;00m \u001B[38;5;167;01mKeyError\u001B[39;00m \u001B[38;5;28;01mas\u001B[39;00m err:\n\u001B[0;32m-> 3804\u001B[0m     \u001B[38;5;28;01mraise\u001B[39;00m \u001B[38;5;167;01mKeyError\u001B[39;00m(key) \u001B[38;5;28;01mfrom\u001B[39;00m \u001B[38;5;21;01merr\u001B[39;00m\n\u001B[1;32m   3805\u001B[0m \u001B[38;5;28;01mexcept\u001B[39;00m \u001B[38;5;167;01mTypeError\u001B[39;00m:\n\u001B[1;32m   3806\u001B[0m     \u001B[38;5;66;03m# If we have a listlike key, _check_indexing_error will raise\u001B[39;00m\n\u001B[1;32m   3807\u001B[0m     \u001B[38;5;66;03m#  InvalidIndexError. Otherwise we fall through and re-raise\u001B[39;00m\n\u001B[1;32m   3808\u001B[0m     \u001B[38;5;66;03m#  the TypeError.\u001B[39;00m\n\u001B[1;32m   3809\u001B[0m     \u001B[38;5;28mself\u001B[39m\u001B[38;5;241m.\u001B[39m_check_indexing_error(key)\n",
      "\u001B[0;31mKeyError\u001B[0m: 'ts'"
     ]
    }
   ]
  },
  {
   "cell_type": "code",
   "source": [
    "bot.send_photo??\n",
    "\n",
    "message.from_user.id"
   ],
   "metadata": {
    "id": "g40Y90qZRNbg",
    "ExecuteTime": {
     "start_time": "2023-12-11T13:28:44.607793Z"
    }
   },
   "execution_count": null,
   "outputs": []
  },
  {
   "cell_type": "code",
   "source": [],
   "metadata": {
    "id": "OUlm42o1RcWZ",
    "ExecuteTime": {
     "start_time": "2023-12-11T13:28:44.609145Z"
    }
   },
   "execution_count": null,
   "outputs": []
  }
 ]
}
